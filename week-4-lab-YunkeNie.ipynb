{
  "nbformat": 4,
  "nbformat_minor": 0,
  "metadata": {
    "colab": {
      "provenance": []
    },
    "kernelspec": {
      "name": "python3",
      "display_name": "Python 3"
    },
    "language_info": {
      "name": "python"
    }
  },
  "cells": [
    {
      "cell_type": "code",
      "source": [
        "import pandas as pd\n",
        "\n",
        "!wget https://course.ccs.neu.edu/cs6220/lecture-labs/lecture-3/abalone.csv"
      ],
      "metadata": {
        "colab": {
          "base_uri": "https://localhost:8080/"
        },
        "id": "Qz1zVnbqwJhF",
        "outputId": "042dff7e-7dac-453f-99d6-d4ce8c2fa83e"
      },
      "execution_count": 1,
      "outputs": [
        {
          "output_type": "stream",
          "name": "stdout",
          "text": [
            "--2023-02-02 02:58:40--  https://course.ccs.neu.edu/cs6220/lecture-labs/lecture-3/abalone.csv\n",
            "Resolving course.ccs.neu.edu (course.ccs.neu.edu)... 129.10.117.35\n",
            "Connecting to course.ccs.neu.edu (course.ccs.neu.edu)|129.10.117.35|:443... connected.\n",
            "HTTP request sent, awaiting response... 200 OK\n",
            "Length: 191962 (187K) [text/csv]\n",
            "Saving to: ‘abalone.csv’\n",
            "\n",
            "abalone.csv         100%[===================>] 187.46K  --.-KB/s    in 0.09s   \n",
            "\n",
            "2023-02-02 02:58:40 (2.00 MB/s) - ‘abalone.csv’ saved [191962/191962]\n",
            "\n"
          ]
        }
      ]
    },
    {
      "cell_type": "markdown",
      "source": [
        "# Read in Abalone data"
      ],
      "metadata": {
        "id": "paHllXrD0paL"
      }
    },
    {
      "cell_type": "code",
      "source": [
        "df = pd.read_csv(\"abalone.csv\")"
      ],
      "metadata": {
        "id": "MDXfwqQrwNBO"
      },
      "execution_count": 2,
      "outputs": []
    },
    {
      "cell_type": "markdown",
      "source": [
        "# Explore the data\n",
        "\n",
        "In this lab, you're going to drop features and scatter the points after projecting along 2 principle components axes.\n",
        "\n",
        "For example, you may drop columns in `Pandas` by typing \n",
        "\n",
        "\n",
        "1. Prune the data. Drop columns `Sex` and/or `Rings`. \\\n",
        "   ```matrix = df.loc[:, df.columns != \"Sex\"]```\n",
        "\n",
        "1. Calculate the covariance matrix. You can calculate the covariance matrix via: \\\n",
        "   $$Cov(X_i, X_j) = \\mathbb{E}[(X_i - \\mu_{x_i})(X_j - \\mu_{x_j})^T]$$\n",
        "\n",
        "1. Calculate the first two components of PCA. You can feel free to use `np.linalg.eig`.\n",
        "\n",
        "1. Verify the principle components. To calculate PCA, feel free to use the PCA function from `scikit.learn`. \\\n",
        "\n",
        "  ```\n",
        "  from sklearn.decomposition import PCA\n",
        "  # Two components of PCA\n",
        "  pca = PCA(2)\n",
        "\n",
        "  # Fit on data\n",
        "  pca.fit(A)\n",
        "\n",
        "  # Access values and vectors\n",
        "  print(pca.components_)\n",
        "  print(pca.explained_variance_)\n",
        "\n",
        "  # transform data\n",
        "  B = pca.transform(A)\n",
        "  print(B)\n",
        "  ```\n",
        "\n",
        "1. Scatter the data to view it in two dimensions"
      ],
      "metadata": {
        "id": "XRByH8x90udO"
      }
    },
    {
      "cell_type": "code",
      "source": [
        "df.head(5)"
      ],
      "metadata": {
        "id": "GRi456zu2QCr",
        "colab": {
          "base_uri": "https://localhost:8080/",
          "height": 206
        },
        "outputId": "f6b41fea-b311-425a-9680-27ef52199a59"
      },
      "execution_count": 4,
      "outputs": [
        {
          "output_type": "execute_result",
          "data": {
            "text/plain": [
              "  Sex  Length  Diameter  Height  Whole weight  Shucked weight  Viscera weight  \\\n",
              "0   M   0.455     0.365   0.095        0.5140          0.2245          0.1010   \n",
              "1   M   0.350     0.265   0.090        0.2255          0.0995          0.0485   \n",
              "2   F   0.530     0.420   0.135        0.6770          0.2565          0.1415   \n",
              "3   M   0.440     0.365   0.125        0.5160          0.2155          0.1140   \n",
              "4   I   0.330     0.255   0.080        0.2050          0.0895          0.0395   \n",
              "\n",
              "   Shell weight  Rings  \n",
              "0         0.150     15  \n",
              "1         0.070      7  \n",
              "2         0.210      9  \n",
              "3         0.155     10  \n",
              "4         0.055      7  "
            ],
            "text/html": [
              "\n",
              "  <div id=\"df-8c3511b5-66a3-4f4a-99f0-7e7eb7ef2822\">\n",
              "    <div class=\"colab-df-container\">\n",
              "      <div>\n",
              "<style scoped>\n",
              "    .dataframe tbody tr th:only-of-type {\n",
              "        vertical-align: middle;\n",
              "    }\n",
              "\n",
              "    .dataframe tbody tr th {\n",
              "        vertical-align: top;\n",
              "    }\n",
              "\n",
              "    .dataframe thead th {\n",
              "        text-align: right;\n",
              "    }\n",
              "</style>\n",
              "<table border=\"1\" class=\"dataframe\">\n",
              "  <thead>\n",
              "    <tr style=\"text-align: right;\">\n",
              "      <th></th>\n",
              "      <th>Sex</th>\n",
              "      <th>Length</th>\n",
              "      <th>Diameter</th>\n",
              "      <th>Height</th>\n",
              "      <th>Whole weight</th>\n",
              "      <th>Shucked weight</th>\n",
              "      <th>Viscera weight</th>\n",
              "      <th>Shell weight</th>\n",
              "      <th>Rings</th>\n",
              "    </tr>\n",
              "  </thead>\n",
              "  <tbody>\n",
              "    <tr>\n",
              "      <th>0</th>\n",
              "      <td>M</td>\n",
              "      <td>0.455</td>\n",
              "      <td>0.365</td>\n",
              "      <td>0.095</td>\n",
              "      <td>0.5140</td>\n",
              "      <td>0.2245</td>\n",
              "      <td>0.1010</td>\n",
              "      <td>0.150</td>\n",
              "      <td>15</td>\n",
              "    </tr>\n",
              "    <tr>\n",
              "      <th>1</th>\n",
              "      <td>M</td>\n",
              "      <td>0.350</td>\n",
              "      <td>0.265</td>\n",
              "      <td>0.090</td>\n",
              "      <td>0.2255</td>\n",
              "      <td>0.0995</td>\n",
              "      <td>0.0485</td>\n",
              "      <td>0.070</td>\n",
              "      <td>7</td>\n",
              "    </tr>\n",
              "    <tr>\n",
              "      <th>2</th>\n",
              "      <td>F</td>\n",
              "      <td>0.530</td>\n",
              "      <td>0.420</td>\n",
              "      <td>0.135</td>\n",
              "      <td>0.6770</td>\n",
              "      <td>0.2565</td>\n",
              "      <td>0.1415</td>\n",
              "      <td>0.210</td>\n",
              "      <td>9</td>\n",
              "    </tr>\n",
              "    <tr>\n",
              "      <th>3</th>\n",
              "      <td>M</td>\n",
              "      <td>0.440</td>\n",
              "      <td>0.365</td>\n",
              "      <td>0.125</td>\n",
              "      <td>0.5160</td>\n",
              "      <td>0.2155</td>\n",
              "      <td>0.1140</td>\n",
              "      <td>0.155</td>\n",
              "      <td>10</td>\n",
              "    </tr>\n",
              "    <tr>\n",
              "      <th>4</th>\n",
              "      <td>I</td>\n",
              "      <td>0.330</td>\n",
              "      <td>0.255</td>\n",
              "      <td>0.080</td>\n",
              "      <td>0.2050</td>\n",
              "      <td>0.0895</td>\n",
              "      <td>0.0395</td>\n",
              "      <td>0.055</td>\n",
              "      <td>7</td>\n",
              "    </tr>\n",
              "  </tbody>\n",
              "</table>\n",
              "</div>\n",
              "      <button class=\"colab-df-convert\" onclick=\"convertToInteractive('df-8c3511b5-66a3-4f4a-99f0-7e7eb7ef2822')\"\n",
              "              title=\"Convert this dataframe to an interactive table.\"\n",
              "              style=\"display:none;\">\n",
              "        \n",
              "  <svg xmlns=\"http://www.w3.org/2000/svg\" height=\"24px\"viewBox=\"0 0 24 24\"\n",
              "       width=\"24px\">\n",
              "    <path d=\"M0 0h24v24H0V0z\" fill=\"none\"/>\n",
              "    <path d=\"M18.56 5.44l.94 2.06.94-2.06 2.06-.94-2.06-.94-.94-2.06-.94 2.06-2.06.94zm-11 1L8.5 8.5l.94-2.06 2.06-.94-2.06-.94L8.5 2.5l-.94 2.06-2.06.94zm10 10l.94 2.06.94-2.06 2.06-.94-2.06-.94-.94-2.06-.94 2.06-2.06.94z\"/><path d=\"M17.41 7.96l-1.37-1.37c-.4-.4-.92-.59-1.43-.59-.52 0-1.04.2-1.43.59L10.3 9.45l-7.72 7.72c-.78.78-.78 2.05 0 2.83L4 21.41c.39.39.9.59 1.41.59.51 0 1.02-.2 1.41-.59l7.78-7.78 2.81-2.81c.8-.78.8-2.07 0-2.86zM5.41 20L4 18.59l7.72-7.72 1.47 1.35L5.41 20z\"/>\n",
              "  </svg>\n",
              "      </button>\n",
              "      \n",
              "  <style>\n",
              "    .colab-df-container {\n",
              "      display:flex;\n",
              "      flex-wrap:wrap;\n",
              "      gap: 12px;\n",
              "    }\n",
              "\n",
              "    .colab-df-convert {\n",
              "      background-color: #E8F0FE;\n",
              "      border: none;\n",
              "      border-radius: 50%;\n",
              "      cursor: pointer;\n",
              "      display: none;\n",
              "      fill: #1967D2;\n",
              "      height: 32px;\n",
              "      padding: 0 0 0 0;\n",
              "      width: 32px;\n",
              "    }\n",
              "\n",
              "    .colab-df-convert:hover {\n",
              "      background-color: #E2EBFA;\n",
              "      box-shadow: 0px 1px 2px rgba(60, 64, 67, 0.3), 0px 1px 3px 1px rgba(60, 64, 67, 0.15);\n",
              "      fill: #174EA6;\n",
              "    }\n",
              "\n",
              "    [theme=dark] .colab-df-convert {\n",
              "      background-color: #3B4455;\n",
              "      fill: #D2E3FC;\n",
              "    }\n",
              "\n",
              "    [theme=dark] .colab-df-convert:hover {\n",
              "      background-color: #434B5C;\n",
              "      box-shadow: 0px 1px 3px 1px rgba(0, 0, 0, 0.15);\n",
              "      filter: drop-shadow(0px 1px 2px rgba(0, 0, 0, 0.3));\n",
              "      fill: #FFFFFF;\n",
              "    }\n",
              "  </style>\n",
              "\n",
              "      <script>\n",
              "        const buttonEl =\n",
              "          document.querySelector('#df-8c3511b5-66a3-4f4a-99f0-7e7eb7ef2822 button.colab-df-convert');\n",
              "        buttonEl.style.display =\n",
              "          google.colab.kernel.accessAllowed ? 'block' : 'none';\n",
              "\n",
              "        async function convertToInteractive(key) {\n",
              "          const element = document.querySelector('#df-8c3511b5-66a3-4f4a-99f0-7e7eb7ef2822');\n",
              "          const dataTable =\n",
              "            await google.colab.kernel.invokeFunction('convertToInteractive',\n",
              "                                                     [key], {});\n",
              "          if (!dataTable) return;\n",
              "\n",
              "          const docLinkHtml = 'Like what you see? Visit the ' +\n",
              "            '<a target=\"_blank\" href=https://colab.research.google.com/notebooks/data_table.ipynb>data table notebook</a>'\n",
              "            + ' to learn more about interactive tables.';\n",
              "          element.innerHTML = '';\n",
              "          dataTable['output_type'] = 'display_data';\n",
              "          await google.colab.output.renderOutput(dataTable, element);\n",
              "          const docLink = document.createElement('div');\n",
              "          docLink.innerHTML = docLinkHtml;\n",
              "          element.appendChild(docLink);\n",
              "        }\n",
              "      </script>\n",
              "    </div>\n",
              "  </div>\n",
              "  "
            ]
          },
          "metadata": {},
          "execution_count": 4
        }
      ]
    },
    {
      "cell_type": "code",
      "source": [
        "matrix = df.loc[:, df.columns != \"Sex\"].to_numpy()\n",
        "matrix"
      ],
      "metadata": {
        "colab": {
          "base_uri": "https://localhost:8080/"
        },
        "id": "F1LAoDVoEOgr",
        "outputId": "67d53c9c-fd04-4c04-fb87-e84f1ff363e4"
      },
      "execution_count": 34,
      "outputs": [
        {
          "output_type": "execute_result",
          "data": {
            "text/plain": [
              "array([[ 0.455 ,  0.365 ,  0.095 , ...,  0.101 ,  0.15  , 15.    ],\n",
              "       [ 0.35  ,  0.265 ,  0.09  , ...,  0.0485,  0.07  ,  7.    ],\n",
              "       [ 0.53  ,  0.42  ,  0.135 , ...,  0.1415,  0.21  ,  9.    ],\n",
              "       ...,\n",
              "       [ 0.6   ,  0.475 ,  0.205 , ...,  0.2875,  0.308 ,  9.    ],\n",
              "       [ 0.625 ,  0.485 ,  0.15  , ...,  0.261 ,  0.296 , 10.    ],\n",
              "       [ 0.71  ,  0.555 ,  0.195 , ...,  0.3765,  0.495 , 12.    ]])"
            ]
          },
          "metadata": {},
          "execution_count": 34
        }
      ]
    },
    {
      "cell_type": "code",
      "source": [
        "cov = np.cov(matrix.T)\n",
        "cov"
      ],
      "metadata": {
        "colab": {
          "base_uri": "https://localhost:8080/"
        },
        "id": "zLSPqFlmKLNX",
        "outputId": "95b3554e-cec5-4d97-aa04-4c0eca2d93a8"
      },
      "execution_count": 40,
      "outputs": [
        {
          "output_type": "execute_result",
          "data": {
            "text/plain": [
              "array([[1.44223076e-02, 1.17608250e-02, 4.15691189e-03, 5.44907081e-02,\n",
              "        2.39349454e-02, 1.18872298e-02, 1.50071720e-02, 2.15561736e-01],\n",
              "       [1.17608250e-02, 9.84855103e-03, 3.46054721e-03, 4.50381820e-02,\n",
              "        1.96742019e-02, 9.78729548e-03, 1.25066369e-02, 1.83871673e-01],\n",
              "       [4.15691189e-03, 3.46054721e-03, 1.74950266e-03, 1.68034708e-02,\n",
              "        7.19488681e-03, 3.66016741e-03, 4.75889986e-03, 7.51786501e-02],\n",
              "       [5.44907081e-02, 4.50381820e-02, 1.68034708e-02, 2.40481389e-01,\n",
              "        1.05518032e-01, 5.19461632e-02, 6.52158684e-02, 8.54408544e-01],\n",
              "       [2.39349454e-02, 1.96742019e-02, 7.19488681e-03, 1.05518032e-01,\n",
              "        4.92675507e-02, 2.26749006e-02, 2.72709563e-02, 3.01203734e-01],\n",
              "       [1.18872298e-02, 9.78729548e-03, 3.66016741e-03, 5.19461632e-02,\n",
              "        2.26749006e-02, 1.20152839e-02, 1.38495613e-02, 1.78057215e-01],\n",
              "       [1.50071720e-02, 1.25066369e-02, 4.75889986e-03, 6.52158684e-02,\n",
              "        2.72709563e-02, 1.38495613e-02, 1.93773832e-02, 2.81663350e-01],\n",
              "       [2.15561736e-01, 1.83871673e-01, 7.51786501e-02, 8.54408544e-01,\n",
              "        3.01203734e-01, 1.78057215e-01, 2.81663350e-01, 1.03952659e+01]])"
            ]
          },
          "metadata": {},
          "execution_count": 40
        }
      ]
    },
    {
      "cell_type": "code",
      "source": [
        "cov.shape"
      ],
      "metadata": {
        "colab": {
          "base_uri": "https://localhost:8080/"
        },
        "id": "CgckKHATKf7G",
        "outputId": "ee115854-f5f5-4047-a26a-a03451f6c33c"
      },
      "execution_count": 43,
      "outputs": [
        {
          "output_type": "execute_result",
          "data": {
            "text/plain": [
              "(8, 8)"
            ]
          },
          "metadata": {},
          "execution_count": 43
        }
      ]
    },
    {
      "cell_type": "code",
      "source": [
        "eigval, eigvec = np.linalg.eig(cov)\n",
        "eigval, eigvec"
      ],
      "metadata": {
        "colab": {
          "base_uri": "https://localhost:8080/"
        },
        "id": "k_BH5x_bKzWD",
        "outputId": "fb89adf2-fe84-48d1-bb34-142de736fac4"
      },
      "execution_count": 47,
      "outputs": [
        {
          "output_type": "execute_result",
          "data": {
            "text/plain": [
              "(array([1.04954314e+01, 2.39268823e-01, 3.02087647e-03, 2.60218996e-03,\n",
              "        1.05068657e-03, 1.47688518e-04, 4.88782005e-04, 4.17493194e-04]),\n",
              " array([[-2.10513202e-02,  1.83052752e-01, -7.42040211e-01,\n",
              "          9.06887398e-02,  3.07007218e-02, -6.18893826e-01,\n",
              "          1.52311416e-01, -5.43508715e-03],\n",
              "        [-1.79401219e-02,  1.48804192e-01, -5.96175335e-01,\n",
              "          4.20854302e-02, -2.33409653e-02,  7.83141972e-01,\n",
              "          7.49734266e-02, -2.93613363e-02],\n",
              "        [-7.31629638e-03,  5.24595599e-02, -1.40358287e-01,\n",
              "         -3.71173260e-02, -1.45782231e-03, -4.21715859e-02,\n",
              "         -9.10437257e-01, -3.81365645e-01],\n",
              "        [-8.36804920e-02,  8.34461310e-01,  2.28847916e-01,\n",
              "         -2.20616051e-01,  1.25570884e-01, -2.50039224e-03,\n",
              "          1.82698066e-01, -3.82722100e-01],\n",
              "        [-2.97346596e-02,  3.99951598e-01,  1.36354791e-01,\n",
              "          7.54544047e-01, -3.31709499e-01,  5.43703582e-03,\n",
              "         -1.68819392e-01,  3.35655300e-01],\n",
              "        [-1.74599170e-02,  1.83252786e-01, -7.74498237e-03,\n",
              "         -7.33235758e-02,  7.56051666e-01,  2.91035964e-02,\n",
              "         -2.30202123e-01,  5.78984522e-01],\n",
              "        [-2.74311519e-02,  2.05272453e-01, -5.65032111e-02,\n",
              "         -6.04242412e-01, -5.48722324e-01, -3.15866047e-02,\n",
              "         -1.65567109e-01,  5.09217906e-01],\n",
              "        [-9.95106815e-01, -9.79370973e-02,  5.85253004e-03,\n",
              "          1.15443528e-02,  9.94904944e-04, -3.08222505e-04,\n",
              "          4.04147122e-04,  1.40655044e-03]]))"
            ]
          },
          "metadata": {},
          "execution_count": 47
        }
      ]
    },
    {
      "cell_type": "code",
      "source": [
        "xpoint = matrix.dot(eigvec.T[0])\n",
        "ypoint = matrix.dot(eigvec.T[1])\n",
        "\n",
        "plt.hist(xpoint, bins=50)\n",
        "plt.hist(ypoint, bins=50)"
      ],
      "metadata": {
        "colab": {
          "base_uri": "https://localhost:8080/",
          "height": 569
        },
        "id": "ef4Q8tCqLAds",
        "outputId": "5d48f165-fdf0-432f-9f3a-2b056075369c"
      },
      "execution_count": 48,
      "outputs": [
        {
          "output_type": "execute_result",
          "data": {
            "text/plain": [
              "(array([  5.,   6.,   1.,   3.,   8.,   7.,  15.,  14.,  35.,  58.,  90.,\n",
              "         89., 134., 215., 307., 302., 245., 250., 234., 218., 202., 181.,\n",
              "        185., 163., 179., 169., 145., 133.,  92., 104.,  86.,  52.,  65.,\n",
              "         33.,  34.,  21.,  12.,  22.,  15.,   8.,  10.,   6.,   9.,   5.,\n",
              "          1.,   3.,   2.,   2.,   0.,   2.]),\n",
              " array([-1.32351118, -1.25315233, -1.18279348, -1.11243463, -1.04207578,\n",
              "        -0.97171693, -0.90135808, -0.83099923, -0.76064038, -0.69028152,\n",
              "        -0.61992267, -0.54956382, -0.47920497, -0.40884612, -0.33848727,\n",
              "        -0.26812842, -0.19776957, -0.12741072, -0.05705186,  0.01330699,\n",
              "         0.08366584,  0.15402469,  0.22438354,  0.29474239,  0.36510124,\n",
              "         0.43546009,  0.50581894,  0.5761778 ,  0.64653665,  0.7168955 ,\n",
              "         0.78725435,  0.8576132 ,  0.92797205,  0.9983309 ,  1.06868975,\n",
              "         1.13904861,  1.20940746,  1.27976631,  1.35012516,  1.42048401,\n",
              "         1.49084286,  1.56120171,  1.63156056,  1.70191941,  1.77227827,\n",
              "         1.84263712,  1.91299597,  1.98335482,  2.05371367,  2.12407252,\n",
              "         2.19443137]),\n",
              " <a list of 50 Patch objects>)"
            ]
          },
          "metadata": {},
          "execution_count": 48
        },
        {
          "output_type": "display_data",
          "data": {
            "text/plain": [
              "<Figure size 432x288 with 1 Axes>"
            ],
            "image/png": "[encoded data removed]"
          },
          "metadata": {
            "needs_background": "light"
          }
        }
      ]
    },
    {
      "cell_type": "code",
      "source": [
        "from sklearn.decomposition import PCA\n",
        "# Two components of PCA\n",
        "pca = PCA(2)\n",
        "\n",
        "\n",
        "pca.fit(matrix)\n",
        "# Fit on data\n",
        "# pca.fit(A)\n",
        "\n",
        "# transform data\n",
        "B = pca.transform(matrix)\n",
        "print(B)"
      ],
      "metadata": {
        "colab": {
          "base_uri": "https://localhost:8080/"
        },
        "id": "I9hqKdmsEMzb",
        "outputId": "08933d37-a58f-40c3-c54c-2efa0b438322"
      },
      "execution_count": 49,
      "outputs": [
        {
          "output_type": "stream",
          "name": "stdout",
          "text": [
            "[[ 5.00480331 -0.86692655]\n",
            " [-2.99106199 -0.43457164]\n",
            " [-0.94603495 -0.08673867]\n",
            " ...\n",
            " [-0.88806992  0.5087862 ]\n",
            " [ 0.0998919   0.34089986]\n",
            " [ 2.18474351  1.11378693]]\n"
          ]
        }
      ]
    },
    {
      "cell_type": "code",
      "source": [
        "plt.scatter(B.T[0], B.T[1])\n",
        "plt.scatter(xpoint, ypoint)"
      ],
      "metadata": {
        "colab": {
          "base_uri": "https://localhost:8080/",
          "height": 283
        },
        "id": "Z08OEJWLNgjT",
        "outputId": "fca1cf73-a6d7-4cf9-c637-ddfaa821f244"
      },
      "execution_count": 50,
      "outputs": [
        {
          "output_type": "execute_result",
          "data": {
            "text/plain": [
              "<matplotlib.collections.PathCollection at 0x7f43b35bcca0>"
            ]
          },
          "metadata": {},
          "execution_count": 50
        },
        {
          "output_type": "display_data",
          "data": {
            "text/plain": [
              "<Figure size 432x288 with 1 Axes>"
            ],
            "image/png": "[encoded data removed]"
          },
          "metadata": {
            "needs_background": "light"
          }
        }
      ]
    },
    {
      "cell_type": "code",
      "source": [],
      "metadata": {
        "id": "SdXmP3W5NmBo"
      },
      "execution_count": null,
      "outputs": []
    },
    {
      "cell_type": "code",
      "source": [
        "# Access values and vectors\n",
        "\n",
        "\n",
        "print(pca.components_)\n",
        "print(pca.explained_variance_)"
      ],
      "metadata": {
        "colab": {
          "base_uri": "https://localhost:8080/"
        },
        "id": "zeOUIMKkEgEs",
        "outputId": "3ca264b6-b4de-460c-c670-598d96a3debe"
      },
      "execution_count": 36,
      "outputs": [
        {
          "output_type": "stream",
          "name": "stdout",
          "text": [
            "[[ 0.02105132  0.01794012  0.0073163   0.08368049  0.02973466  0.01745992\n",
            "   0.02743115  0.99510682]\n",
            " [ 0.18305275  0.14880419  0.05245956  0.83446131  0.3999516   0.18325279\n",
            "   0.20527245 -0.0979371 ]]\n",
            "[10.49543138  0.23926882]\n"
          ]
        }
      ]
    },
    {
      "cell_type": "code",
      "source": [
        "B = pca.transform(matrix)\n",
        "print(B)"
      ],
      "metadata": {
        "colab": {
          "base_uri": "https://localhost:8080/"
        },
        "id": "cJCZtET8EkAs",
        "outputId": "007984a5-dddb-4b77-c17a-d1a1968d9154"
      },
      "execution_count": 12,
      "outputs": [
        {
          "output_type": "stream",
          "name": "stdout",
          "text": [
            "[[ 5.00480331 -0.86692655]\n",
            " [-2.99106199 -0.43457164]\n",
            " [-0.94603495 -0.08673867]\n",
            " ...\n",
            " [-0.88806992  0.5087862 ]\n",
            " [ 0.0998919   0.34089986]\n",
            " [ 2.18474351  1.11378693]]\n"
          ]
        }
      ]
    },
    {
      "cell_type": "code",
      "source": [
        "import matplotlib.pyplot as plt\n",
        "import numpy as np"
      ],
      "metadata": {
        "id": "A8JzrL37EkmC"
      },
      "execution_count": 16,
      "outputs": []
    },
    {
      "cell_type": "code",
      "source": [
        "Cov = np.sqrt(matrix.T @ matrix) / 4177\n",
        "Cov"
      ],
      "metadata": {
        "colab": {
          "base_uri": "https://localhost:8080/"
        },
        "id": "E1TEzsYoE3A_",
        "outputId": "13799ad1-f053-4f27-c18d-8e8845d58c7e"
      },
      "execution_count": 39,
      "outputs": [
        {
          "output_type": "execute_result",
          "data": {
            "text/plain": [
              "array([[0.00831776, 0.00734727, 0.0043008 , 0.01081691, 0.00712814,\n",
              "        0.00504976, 0.00579246, 0.03602423],\n",
              "       [0.00734727, 0.00649512, 0.00380157, 0.00957632, 0.0063088 ,\n",
              "        0.00446961, 0.00512983, 0.03184379],\n",
              "       [0.0043008 , 0.00380157, 0.00225361, 0.00563052, 0.00370478,\n",
              "        0.00262832, 0.00301931, 0.01870267],\n",
              "       [0.01081691, 0.00957632, 0.00563052, 0.01489921, 0.00982631,\n",
              "        0.00694724, 0.00793693, 0.04664124],\n",
              "       [0.00712814, 0.0063088 , 0.00370478, 0.00982631, 0.00653531,\n",
              "        0.00457871, 0.00520337, 0.03044233],\n",
              "       [0.00504976, 0.00446961, 0.00262832, 0.00694724, 0.00457871,\n",
              "        0.00326862, 0.00369334, 0.02172793],\n",
              "       [0.00579246, 0.00512983, 0.00301931, 0.00793693, 0.00520337,\n",
              "        0.00369334, 0.00427712, 0.02520714],\n",
              "       [0.03602423, 0.03184379, 0.01870267, 0.04664124, 0.03044233,\n",
              "        0.02172793, 0.02520714, 0.16159285]])"
            ]
          },
          "metadata": {},
          "execution_count": 39
        }
      ]
    },
    {
      "cell_type": "code",
      "source": [
        "eigval, eigvec = np.linalg.eig(Cov)"
      ],
      "metadata": {
        "id": "SjfkyM_SEo6Q"
      },
      "execution_count": 25,
      "outputs": []
    },
    {
      "cell_type": "code",
      "source": [
        "eigvec"
      ],
      "metadata": {
        "colab": {
          "base_uri": "https://localhost:8080/"
        },
        "id": "D6eOvMRJFfK8",
        "outputId": "a363945e-6dff-4db7-8764-34c4a2b27cc9"
      },
      "execution_count": 26,
      "outputs": [
        {
          "output_type": "execute_result",
          "data": {
            "text/plain": [
              "array([[ 1.99400847e-01, -1.47243569e-01,  6.69809856e-01,\n",
              "         1.00193744e-01, -6.44205889e-01, -3.27943629e-02,\n",
              "        -2.52572937e-01, -2.19502864e-03],\n",
              "       [ 1.76291759e-01, -1.36620321e-01,  5.53976973e-01,\n",
              "         1.23612203e-01,  7.63829532e-01, -2.54359322e-02,\n",
              "        -2.07665500e-01, -2.96334320e-02],\n",
              "       [ 1.03539404e-01, -8.18270513e-02,  2.69703154e-01,\n",
              "         1.76758854e-01, -7.27394889e-03, -2.27582781e-02,\n",
              "         9.35911935e-01,  4.58087608e-02],\n",
              "       [ 2.60478721e-01, -6.22686739e-01, -2.73521323e-01,\n",
              "         3.79331444e-02, -9.55172892e-03, -6.83527491e-01,\n",
              "        -2.86057945e-02,  6.31386501e-03],\n",
              "       [ 1.70416717e-01, -4.69457727e-01,  2.96973602e-03,\n",
              "        -6.48832153e-01,  5.40666600e-03,  4.48381510e-01,\n",
              "         8.97187200e-02, -3.47060433e-01],\n",
              "       [ 1.21390393e-01, -2.96408953e-01, -9.16183709e-02,\n",
              "         2.66850261e-02,  1.28917580e-02,  3.64416550e-01,\n",
              "        -5.14847698e-02,  8.67573506e-01],\n",
              "       [ 1.40390818e-01, -2.73735465e-01, -2.50715928e-01,\n",
              "         7.17773197e-01, -3.49753954e-02,  4.43409559e-01,\n",
              "        -7.50409818e-02, -3.51903411e-01],\n",
              "       [ 8.87188750e-01,  4.26661281e-01, -1.60154122e-01,\n",
              "        -7.14493282e-02, -6.04817034e-04,  9.60912784e-03,\n",
              "        -1.10950177e-03,  2.82690671e-03]])"
            ]
          },
          "metadata": {},
          "execution_count": 26
        }
      ]
    },
    {
      "cell_type": "code",
      "source": [
        "xpoint = matrix.dot(eigvec.T[0])\n",
        "ypoint = matrix.dot(eigvec.T[1])\n",
        "\n",
        "plt.hist(xpoint, bins=50)\n",
        "plt.hist(ypoint, bins=50)"
      ],
      "metadata": {
        "colab": {
          "base_uri": "https://localhost:8080/",
          "height": 569
        },
        "id": "B9AAdZRKFkdL",
        "outputId": "83f1eb6b-e6bf-4ef4-f56c-07faa525f838"
      },
      "execution_count": 27,
      "outputs": [
        {
          "output_type": "execute_result",
          "data": {
            "text/plain": [
              "(array([  1.,   1.,   0.,   9.,  11.,  44.,  50., 147., 199., 379., 396.,\n",
              "        519., 434., 342., 316., 210., 168., 145., 107., 102.,  86.,  79.,\n",
              "         60.,  58.,  54.,  34.,  41.,  21.,  36.,  18.,  17.,   9.,  17.,\n",
              "         19.,  14.,   8.,   3.,   3.,   2.,   3.,   6.,   0.,   4.,   2.,\n",
              "          0.,   0.,   0.,   1.,   1.,   1.]),\n",
              " array([ 0.40501199,  0.60677209,  0.8085322 ,  1.0102923 ,  1.2120524 ,\n",
              "         1.41381251,  1.61557261,  1.81733272,  2.01909282,  2.22085293,\n",
              "         2.42261303,  2.62437314,  2.82613324,  3.02789335,  3.22965345,\n",
              "         3.43141356,  3.63317366,  3.83493377,  4.03669387,  4.23845398,\n",
              "         4.44021408,  4.64197419,  4.84373429,  5.04549439,  5.2472545 ,\n",
              "         5.4490146 ,  5.65077471,  5.85253481,  6.05429492,  6.25605502,\n",
              "         6.45781513,  6.65957523,  6.86133534,  7.06309544,  7.26485555,\n",
              "         7.46661565,  7.66837576,  7.87013586,  8.07189597,  8.27365607,\n",
              "         8.47541617,  8.67717628,  8.87893638,  9.08069649,  9.28245659,\n",
              "         9.4842167 ,  9.6859768 ,  9.88773691, 10.08949701, 10.29125712,\n",
              "        10.49301722]),\n",
              " <a list of 50 Patch objects>)"
            ]
          },
          "metadata": {},
          "execution_count": 27
        },
        {
          "output_type": "display_data",
          "data": {
            "text/plain": [
              "<Figure size 432x288 with 1 Axes>"
            ],
            "image/png": "[encoded data removed]"
          },
          "metadata": {
            "needs_background": "light"
          }
        }
      ]
    },
    {
      "cell_type": "code",
      "source": [
        "print(pca.components_)\n",
        "print(pca.explained_variance_)"
      ],
      "metadata": {
        "colab": {
          "base_uri": "https://localhost:8080/"
        },
        "id": "dL_jtYBaFmrc",
        "outputId": "b885fdb8-d8c6-4369-9487-a2c43e8506eb"
      },
      "execution_count": 21,
      "outputs": [
        {
          "output_type": "stream",
          "name": "stdout",
          "text": [
            "[[ 0.02105132  0.01794012  0.0073163   0.08368049  0.02973466  0.01745992\n",
            "   0.02743115  0.99510682]\n",
            " [ 0.18305275  0.14880419  0.05245956  0.83446131  0.3999516   0.18325279\n",
            "   0.20527245 -0.0979371 ]]\n",
            "[10.49543138  0.23926882]\n"
          ]
        }
      ]
    },
    {
      "cell_type": "code",
      "source": [
        "plt.scatter(B.T[0], B.T[1])\n",
        "plt.scatter(xpoint, ypoint)"
      ],
      "metadata": {
        "colab": {
          "base_uri": "https://localhost:8080/",
          "height": 283
        },
        "id": "7bWK0fcxF_sO",
        "outputId": "8c43a04e-44af-479c-968f-df0d411afcb8"
      },
      "execution_count": 32,
      "outputs": [
        {
          "output_type": "execute_result",
          "data": {
            "text/plain": [
              "<matplotlib.collections.PathCollection at 0x7f43b56431c0>"
            ]
          },
          "metadata": {},
          "execution_count": 32
        },
        {
          "output_type": "display_data",
          "data": {
            "text/plain": [
              "<Figure size 432x288 with 1 Axes>"
            ],
            "image/png": "[encoded data removed]"
          },
          "metadata": {
            "needs_background": "light"
          }
        }
      ]
    },
    {
      "cell_type": "code",
      "source": [],
      "metadata": {
        "id": "sI4blaHbIsdf"
      },
      "execution_count": null,
      "outputs": []
    }
  ]
}